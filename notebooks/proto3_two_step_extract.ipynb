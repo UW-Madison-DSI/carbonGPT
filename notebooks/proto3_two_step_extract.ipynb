{
 "cells": [
  {
   "cell_type": "markdown",
   "metadata": {},
   "source": [
    "# OpenAI structured output with llama parse\n",
    "\n",
    "tl;dr;\n",
    "\n",
    "- much better in dealing with table\n",
    "- still mixup the measurement a bit... perhaps make it less structured, i.e., ask what measurement it is and the units it use.\n",
    "- Not extracting all information"
   ]
  },
  {
   "cell_type": "code",
   "execution_count": 1,
   "metadata": {},
   "outputs": [],
   "source": [
    "import os\n",
    "import nest_asyncio\n",
    "from dotenv import load_dotenv\n",
    "from openai import OpenAI\n",
    "\n",
    "os.chdir(\"/workspaces/proto-carbonGPT\")\n",
    "\n",
    "from proto_carbongpt.data_model import Paper\n",
    "\n",
    "load_dotenv()\n",
    "nest_asyncio.apply()"
   ]
  },
  {
   "cell_type": "code",
   "execution_count": 20,
   "metadata": {},
   "outputs": [],
   "source": [
    "# paper = \"Knox et al., 2015\"\n",
    "# paper = \"Rath et al., 2022\"\n",
    "# paper = \"Villa et al., 2024\"\n",
    "paper = \"Wang et al., 2022\""
   ]
  },
  {
   "cell_type": "code",
   "execution_count": 21,
   "metadata": {},
   "outputs": [],
   "source": [
    "with open(f\"data/markdowns/{paper}.md\", \"r\") as f:\n",
    "    text = f.read()"
   ]
  },
  {
   "cell_type": "code",
   "execution_count": 22,
   "metadata": {},
   "outputs": [],
   "source": [
    "def extract(text: str) -> Paper:\n",
    "    \"\"\"Extract measurements from a text.\"\"\"\n",
    "\n",
    "    client = OpenAI()\n",
    "    completion = client.beta.chat.completions.parse(\n",
    "        model=\"gpt-4o-2024-08-06\",\n",
    "        messages=[\n",
    "            {\n",
    "                \"role\": \"system\",\n",
    "                \"content\": \"Extract the research paper information. Get all the top soil organic carbon TOC measures in weights (e.g., g/kg, mg/g, mg/ha...) available in the paper. Also extract the changes in TOC measures over time if available.\",\n",
    "            },\n",
    "            {\"role\": \"user\", \"content\": text},\n",
    "        ],\n",
    "        response_format=Paper,\n",
    "    )\n",
    "    return completion.choices[0].message.parsed"
   ]
  },
  {
   "cell_type": "code",
   "execution_count": 23,
   "metadata": {},
   "outputs": [],
   "source": [
    "extracted = extract(text)"
   ]
  },
  {
   "cell_type": "code",
   "execution_count": 24,
   "metadata": {},
   "outputs": [],
   "source": [
    "with open(f\"data/parsed/{paper}.json\", \"w\") as f:\n",
    "    f.write(extracted.model_dump_json(indent=2))\n"
   ]
  },
  {
   "cell_type": "code",
   "execution_count": null,
   "metadata": {},
   "outputs": [],
   "source": []
  },
  {
   "cell_type": "markdown",
   "metadata": {},
   "source": []
  }
 ],
 "metadata": {
  "kernelspec": {
   "display_name": ".venv",
   "language": "python",
   "name": "python3"
  },
  "language_info": {
   "codemirror_mode": {
    "name": "ipython",
    "version": 3
   },
   "file_extension": ".py",
   "mimetype": "text/x-python",
   "name": "python",
   "nbconvert_exporter": "python",
   "pygments_lexer": "ipython3",
   "version": "3.12.7"
  }
 },
 "nbformat": 4,
 "nbformat_minor": 2
}
