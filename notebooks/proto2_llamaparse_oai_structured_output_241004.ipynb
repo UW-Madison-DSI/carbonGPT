{
 "cells": [
  {
   "cell_type": "markdown",
   "metadata": {},
   "source": [
    "# OpenAI structured output with llama parse\n",
    "\n",
    "tl;dr;\n",
    "\n",
    "- much better in dealing with table\n",
    "- still mixup the measurement a bit... perhaps make it less structured, i.e., ask what measurement it is and the units it use.\n",
    "- Not extracting all information"
   ]
  },
  {
   "cell_type": "code",
   "execution_count": 3,
   "metadata": {},
   "outputs": [],
   "source": [
    "import nest_asyncio\n",
    "from dotenv import load_dotenv\n",
    "from llama_parse import LlamaParse\n",
    "\n",
    "load_dotenv()\n",
    "nest_asyncio.apply()"
   ]
  },
  {
   "cell_type": "code",
   "execution_count": 4,
   "metadata": {},
   "outputs": [
    {
     "name": "stdout",
     "output_type": "stream",
     "text": [
      "Started parsing the file under job_id 6ffc9463-a742-40f0-93e7-71e90d373f23\n",
      "..."
     ]
    }
   ],
   "source": [
    "document = LlamaParse(result_type=\"markdown\").load_data(\n",
    "    \"data/pdfs/Villa et al., 2024.pdf\"\n",
    ")"
   ]
  },
  {
   "cell_type": "code",
   "execution_count": null,
   "metadata": {},
   "outputs": [],
   "source": [
    "md = \"\\n\".join([doc.text for doc in document])\n",
    "with open(\"data/markdowns/Villa et al., 2024.md\", \"w\") as f:\n",
    "    f.write(md)"
   ]
  },
  {
   "cell_type": "code",
   "execution_count": 13,
   "metadata": {},
   "outputs": [
    {
     "name": "stdout",
     "output_type": "stream",
     "text": [
      "# Carbon persistence of soils with long-term biosolids amendments in California agroecosystems\n",
      "\n",
      "Yocelyn B. Villa1 Eddie Phosalath2 Rebecca Ryals2\n",
      "\n",
      "1 Environmental Systems Graduate Group, University of California, Merced, Merced, California, USA\n",
      "\n",
      "2 Department of Life and Environmental Sciences, Unive\n"
     ]
    }
   ],
   "source": [
    "print(md[:300])"
   ]
  },
  {
   "cell_type": "code",
   "execution_count": 14,
   "metadata": {},
   "outputs": [],
   "source": [
    "from proto_carbongpt.data_model import Paper\n",
    "from openai import OpenAI\n",
    "\n",
    "client = OpenAI()\n",
    "\n",
    "\n",
    "completion = client.beta.chat.completions.parse(\n",
    "    model=\"gpt-4o-2024-08-06\",\n",
    "    messages=[\n",
    "        {\"role\": \"system\", \"content\": \"Extract the research paper information.\"},\n",
    "        {\"role\": \"user\", \"content\": md},\n",
    "    ],\n",
    "    response_format=Paper,\n",
    ")\n",
    "\n",
    "event = completion.choices[0].message.parsed"
   ]
  },
  {
   "cell_type": "code",
   "execution_count": 17,
   "metadata": {},
   "outputs": [],
   "source": [
    "with open(\"data/parsed/Villa et al., 2024.json\", \"w\") as f:\n",
    "    f.write(event.model_dump_json(indent=2))\n"
   ]
  },
  {
   "cell_type": "code",
   "execution_count": null,
   "metadata": {},
   "outputs": [],
   "source": []
  }
 ],
 "metadata": {
  "kernelspec": {
   "display_name": ".venv",
   "language": "python",
   "name": "python3"
  },
  "language_info": {
   "codemirror_mode": {
    "name": "ipython",
    "version": 3
   },
   "file_extension": ".py",
   "mimetype": "text/x-python",
   "name": "python",
   "nbconvert_exporter": "python",
   "pygments_lexer": "ipython3",
   "version": "3.12.6"
  }
 },
 "nbformat": 4,
 "nbformat_minor": 2
}
