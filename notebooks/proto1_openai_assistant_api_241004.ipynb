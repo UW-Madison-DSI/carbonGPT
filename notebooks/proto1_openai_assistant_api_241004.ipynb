{
 "cells": [
  {
   "cell_type": "markdown",
   "metadata": {},
   "source": [
    "# Prototype data extraction pipeline\n",
    "\n",
    "tl;dr;\n",
    "- for easy stuff, like location, sites, year, they are quite reliable\n",
    "- The model seems to be able to read some information from the table, but the accuracy needs to be improved with more tuning.\n",
    "- We will start with extracting information/data from the text for now, and then develop an improved version for extracting the data from the figures.\n",
    "\n",
    "Note:\n",
    "- Structured output is not supported in Assistant API, so we will not export it to PDF for now."
   ]
  },
  {
   "cell_type": "code",
   "execution_count": 9,
   "metadata": {},
   "outputs": [
    {
     "data": {
      "text/plain": [
       "True"
      ]
     },
     "execution_count": 9,
     "metadata": {},
     "output_type": "execute_result"
    }
   ],
   "source": [
    "from pathlib import Path\n",
    "\n",
    "import pandas as pd\n",
    "from dotenv import load_dotenv\n",
    "from openai import OpenAI\n",
    "from pydantic import BaseModel\n",
    "\n",
    "from proto_carbongpt.data_model import Paper\n",
    "\n",
    "load_dotenv()\n"
   ]
  },
  {
   "cell_type": "code",
   "execution_count": 4,
   "metadata": {},
   "outputs": [],
   "source": [
    "df = pd.read_csv(\"data/Template_output.csv\")"
   ]
  },
  {
   "cell_type": "code",
   "execution_count": 5,
   "metadata": {},
   "outputs": [
    {
     "name": "stdout",
     "output_type": "stream",
     "text": [
      "data/pdfs/Villa et al., 2024.pdf\n"
     ]
    }
   ],
   "source": [
    "# PDF files\n",
    "pdfs_dir = Path(\"data/pdfs\")\n",
    "pdfs = list(pdfs_dir.glob(\"*.pdf\"))\n",
    "pdf = pdfs[0]\n",
    "print(pdf)\n"
   ]
  },
  {
   "cell_type": "code",
   "execution_count": 7,
   "metadata": {},
   "outputs": [
    {
     "name": "stdout",
     "output_type": "stream",
     "text": [
      "SyncPage[FileObject](data=[FileObject(id='file-CDPqNwobM5psUr5kk1woEVUu', bytes=1560028, created_at=1728059232, filename='Villa et al., 2024.pdf', object='file', purpose='assistants', status='processed', status_details=None)], object='list', has_more=False, first_id='file-CDPqNwobM5psUr5kk1woEVUu', last_id='file-CDPqNwobM5psUr5kk1woEVUu')\n"
     ]
    }
   ],
   "source": [
    "client = OpenAI()\n",
    "\n",
    "# Only upload once\n",
    "# uploaded_file = client.files.create(file=open(pdf, \"rb\"), purpose=\"assistants\")\n",
    "# file_id = uploaded_file[\"id\"]\n",
    "print(client.files.list())\n",
    "file_id = \"file-CDPqNwobM5psUr5kk1woEVUu\""
   ]
  },
  {
   "cell_type": "code",
   "execution_count": 8,
   "metadata": {},
   "outputs": [
    {
     "data": {
      "text/plain": [
       "SyncCursorPage[Assistant](data=[Assistant(id='asst_ruWqBYrKwmsNT2igLfaZnjFR', created_at=1728061335, description=None, instructions='You are a research assistant. Please extract the following information from the provided PDF.', metadata={}, model='gpt-4o', name=None, object='assistant', tools=[FileSearchTool(type='file_search', file_search=FileSearch(max_num_results=None, ranking_options=FileSearchRankingOptions(score_threshold=0.0, ranker='default_2024_08_21')))], response_format='auto', temperature=1.0, tool_resources=ToolResources(code_interpreter=None, file_search=ToolResourcesFileSearch(vector_store_ids=['vs_MR92QgH4Xx0fpkr249Wfbo9g'])), top_p=1.0)], object='list', first_id='asst_ruWqBYrKwmsNT2igLfaZnjFR', last_id='asst_ruWqBYrKwmsNT2igLfaZnjFR', has_more=False)"
      ]
     },
     "execution_count": 8,
     "metadata": {},
     "output_type": "execute_result"
    }
   ],
   "source": [
    "client.beta.assistants.list()\n"
   ]
  },
  {
   "cell_type": "code",
   "execution_count": 35,
   "metadata": {},
   "outputs": [],
   "source": [
    "instructions = f\"\"\"\n",
    "Please extract the following information in json format in this schema:\n",
    "{Paper.model_json_schema()}\n",
    "\"\"\"\n"
   ]
  },
  {
   "cell_type": "code",
   "execution_count": 26,
   "metadata": {},
   "outputs": [
    {
     "name": "stdout",
     "output_type": "stream",
     "text": [
      "asst_ruWqBYrKwmsNT2igLfaZnjFR\n"
     ]
    }
   ],
   "source": [
    "for assistant in client.beta.assistants.list():\n",
    "    print(assistant.id)\n"
   ]
  },
  {
   "cell_type": "code",
   "execution_count": null,
   "metadata": {},
   "outputs": [],
   "source": [
    "# Create research assistant\n",
    "assistant = client.beta.assistants.create(\n",
    "    instructions=\"You are a research assistant. Please extract the following information from the provided PDF and return json.\",\n",
    "    model=\"gpt-4o\",\n",
    "    tools=[{\"type\": \"file_search\"}],\n",
    ")"
   ]
  },
  {
   "cell_type": "code",
   "execution_count": 27,
   "metadata": {},
   "outputs": [],
   "source": [
    "assistant_id = \"asst_ruWqBYrKwmsNT2igLfaZnjFR\"\n"
   ]
  },
  {
   "cell_type": "code",
   "execution_count": 36,
   "metadata": {},
   "outputs": [
    {
     "name": "stdout",
     "output_type": "stream",
     "text": [
      "The extracted information from the PDF is as follows:\n",
      "\n",
      "```json\n",
      "{\n",
      "  \"title\": \"Carbon persistence of soils with long-term biosolids amendments in California agroecosystems\",\n",
      "  \"authors\": \"Yocelyn B. Villa, Eddie Phosalath, Rebecca Ryals\",\n",
      "  \"year\": 2024,\n",
      "  \"doi\": \"10.1002/saj2.20632\",\n",
      "  \"sites\": [\n",
      "    {\n",
      "      \"name\": \"Sacramento\",\n",
      "      \"location\": \"irrigated, grazed grassland\",\n",
      "      \"latitude\": null,\n",
      "      \"longitude\": null,\n",
      "      \"measurements\": [\n",
      "        {\n",
      "          \"group\": \"treatment\",\n",
      "          \"group_details\": \"biosolids amended\",\n",
      "          \"measurement_name\": \"Carbon and Nitrogen content\",\n",
      "          \"measurement_year\": \"2024\",\n",
      "          \"measurement_month\": null,\n",
      "          \"measurement_depth\": \"0–10 cm, 30–50 cm, 75–100 cm\",\n",
      "          \"soil_organic_carbon_g_per_kg\": null,\n",
      "          \"details\": \"Higher carbon and nitrogen content in the free- and occluded-light fractions\",\n",
      "          \"source_page\": 370\n",
      "        }\n",
      "      ]\n",
      "    },\n",
      "    {\n",
      "      \"name\": \"Solano\",\n",
      "      \"location\": \"rainfed, grazed grassland\",\n",
      "      \"latitude\": null,\n",
      "      \"longitude\": null,\n",
      "      \"measurements\": [\n",
      "        {\n",
      "          \"group\": \"treatment\",\n",
      "          \"group_details\": \"biosolids amended\",\n",
      "          \"measurement_name\": \"Carbon and Nitrogen content\",\n",
      "          \"measurement_year\": \"2024\",\n",
      "          \"measurement_month\": null,\n",
      "          \"measurement_depth\": \"0–10 cm, 30–50 cm, 75–100 cm\",\n",
      "          \"soil_organic_carbon_g_per_kg\": null,\n",
      "          \"details\": \"Higher carbon and nitrogen content in the free- and occluded-light fractions\",\n",
      "          \"source_page\": 370\n",
      "        }\n",
      "      ]\n",
      "    },\n",
      "    {\n",
      "      \"name\": \"Merced\",\n",
      "      \"location\": \"feed cropping system with alfalfa–corn rotation\",\n",
      "      \"latitude\": null,\n",
      "      \"longitude\": null,\n",
      "      \"measurements\": [\n",
      "        {\n",
      "          \"group\": \"treatment\",\n",
      "          \"group_details\": \"biosolids amended\",\n",
      "          \"measurement_name\": \"Carbon and Nitrogen content\",\n",
      "          \"measurement_year\": \"2024\",\n",
      "          \"measurement_month\": null,\n",
      "          \"measurement_depth\": \"0–10 cm, 30–50 cm, 75–100 cm\",\n",
      "          \"soil_organic_carbon_g_per_kg\": null,\n",
      "          \"details\": \"Greater relative increase of carbon and nitrogen associated with the heavy fraction\",\n",
      "          \"source_page\": 370\n",
      "        }\n",
      "      ]\n",
      "    }\n",
      "  ]\n",
      "}\n",
      "```\n",
      "\n",
      "The above contains details from the paper including the title, authors, year, DOI, and information about the three sites studied: Sacramento, Solano, and Merced, each with their specific agricultural conditions and findings【4:0†Villa et al., 2024.pdf】.\n"
     ]
    }
   ],
   "source": [
    "thread = client.beta.threads.create(\n",
    "    messages=[\n",
    "        {\n",
    "            \"role\": \"user\",\n",
    "            \"content\": \"Extract as much information as you can from this PDF.\",\n",
    "            \"attachments\": [{\"file_id\": file_id, \"tools\": [{\"type\": \"file_search\"}]}],\n",
    "        }\n",
    "    ],\n",
    ")\n",
    "\n",
    "run = client.beta.threads.runs.create_and_poll(\n",
    "    thread_id=thread.id, assistant_id=assistant_id, instructions=instructions\n",
    ")\n",
    "\n",
    "messages = list(client.beta.threads.messages.list(thread_id=thread.id, run_id=run.id))\n",
    "message_content = messages[0].content[0].text\n",
    "print(message_content.value)"
   ]
  },
  {
   "cell_type": "code",
   "execution_count": 37,
   "metadata": {},
   "outputs": [
    {
     "name": "stdout",
     "output_type": "stream",
     "text": [
      "Paper_Title                                       Carbon persistence of soils with long-term bio...\n",
      "Authors                                            Yocelyn B. Villa, Eddie Phosalath, Rebecca Ryals\n",
      "Site_Location                                                                     Sacramento County\n",
      "Longitude                                                                             121°10′06.5″W\n",
      "Latitude                                                                               38°20′06.3″N\n",
      "Elevation_m                                                                                     NaN\n",
      "Mean_precipitation                                                                              NaN\n",
      "Min_Temp                                                                                        NaN\n",
      "Mean_temp                                                                                       NaN\n",
      "Max_temp                                                                                        NaN\n",
      "Date_Measurements                                                                               NaN\n",
      "Month_of_Measurement                                                                            NaN\n",
      "Year_of_Measurement                                                                          2023.0\n",
      "Duration_of_Treatment_starting_year                                                        20 years\n",
      "SoilOrder                                                                                  Alfisols\n",
      "SoilSeries                                                                      Hicksville, Corning\n",
      "Soil_Texture_topsoil_less_than_20_cm                                                            NaN\n",
      "SoilBulkDensity_g_cm3                                                                           NaN\n",
      "LandUse                                           This site consisted of flood-irrigated annual ...\n",
      "LandManagement_Treatment                          Biosolids were applied for 20 years as describ...\n",
      "CarbonInput_Mg_per_ha_per_year                                                                  NaN\n",
      "Topsoil_Soil_Organic_Carbon_Control_g_per_kg                                                   2.03\n",
      "Topsoil_Soil_Organic_Carbon_Treatment_g_per_kg                                                 1.47\n",
      "Topsoil_carbon_stock_change_Mg_per_ha                                                           NaN\n",
      "N2O_flux_control                                                                                NaN\n",
      "N2O_flux_treatment                                                                              NaN\n",
      "CH4_flux_control_g_C_per_m2                                                                     NaN\n",
      "CH4_flux_treatment_g_C_per_m2                                                                   NaN\n",
      "CO2_flux_control                                                                                NaN\n",
      "CO2_flux_treatment                                                                              NaN\n",
      "NEE_flux_control_g_C_per_m2                                                                     NaN\n",
      "NEE_flux_treatment_g_C_per_m2                                                                   NaN\n",
      "CropYield_biomass_harvest_control                                                               NaN\n",
      "CropYield_biomass_treatment                                                                     NaN\n",
      "Name: 0, dtype: object\n",
      "\n",
      "Paper_Title                                       Carbon persistence of soils with long-term bio...\n",
      "Authors                                            Yocelyn B. Villa, Eddie Phosalath, Rebecca Ryals\n",
      "Site_Location                                                                     Sacramento County\n",
      "Longitude                                                                             121°10′06.5″W\n",
      "Latitude                                                                               38°20′06.3″N\n",
      "Elevation_m                                                                                     NaN\n",
      "Mean_precipitation                                                                              NaN\n",
      "Min_Temp                                                                                        NaN\n",
      "Mean_temp                                                                                       NaN\n",
      "Max_temp                                                                                        NaN\n",
      "Date_Measurements                                                                               NaN\n",
      "Month_of_Measurement                                                                            NaN\n",
      "Year_of_Measurement                                                                          2023.0\n",
      "Duration_of_Treatment_starting_year                                                        20 years\n",
      "SoilOrder                                                                                  Alfisols\n",
      "SoilSeries                                                                      Hicksville, Corning\n",
      "Soil_Texture_topsoil_less_than_20_cm                                                            NaN\n",
      "SoilBulkDensity_g_cm3                                                                           NaN\n",
      "LandUse                                           This site consisted of flood-irrigated annual ...\n",
      "LandManagement_Treatment                          Biosolids were applied for 20 years as describ...\n",
      "CarbonInput_Mg_per_ha_per_year                                                                  NaN\n",
      "Topsoil_Soil_Organic_Carbon_Control_g_per_kg                                                   2.03\n",
      "Topsoil_Soil_Organic_Carbon_Treatment_g_per_kg                                                 1.47\n",
      "Topsoil_carbon_stock_change_Mg_per_ha                                                           NaN\n",
      "N2O_flux_control                                                                                NaN\n",
      "N2O_flux_treatment                                                                              NaN\n",
      "CH4_flux_control_g_C_per_m2                                                                     NaN\n",
      "CH4_flux_treatment_g_C_per_m2                                                                   NaN\n",
      "CO2_flux_control                                                                                NaN\n",
      "CO2_flux_treatment                                                                              NaN\n",
      "NEE_flux_control_g_C_per_m2                                                                     NaN\n",
      "NEE_flux_treatment_g_C_per_m2                                                                   NaN\n",
      "CropYield_biomass_harvest_control                                                               NaN\n",
      "CropYield_biomass_treatment                                                                     NaN\n",
      "Name: 0, dtype: object\n",
      "\n",
      "Paper_Title                                       Carbon persistence of soils with long-term bio...\n",
      "Authors                                            Yocelyn B. Villa, Eddie Phosalath, Rebecca Ryals\n",
      "Site_Location                                                                     Sacramento County\n",
      "Longitude                                                                             121°10′06.5″W\n",
      "Latitude                                                                               38°20′06.3″N\n",
      "Elevation_m                                                                                     NaN\n",
      "Mean_precipitation                                                                              NaN\n",
      "Min_Temp                                                                                        NaN\n",
      "Mean_temp                                                                                       NaN\n",
      "Max_temp                                                                                        NaN\n",
      "Date_Measurements                                                                               NaN\n",
      "Month_of_Measurement                                                                            NaN\n",
      "Year_of_Measurement                                                                          2023.0\n",
      "Duration_of_Treatment_starting_year                                                        20 years\n",
      "SoilOrder                                                                                  Alfisols\n",
      "SoilSeries                                                                      Hicksville, Corning\n",
      "Soil_Texture_topsoil_less_than_20_cm                                                            NaN\n",
      "SoilBulkDensity_g_cm3                                                                           NaN\n",
      "LandUse                                           This site consisted of flood-irrigated annual ...\n",
      "LandManagement_Treatment                          Biosolids were applied for 20 years as describ...\n",
      "CarbonInput_Mg_per_ha_per_year                                                                  NaN\n",
      "Topsoil_Soil_Organic_Carbon_Control_g_per_kg                                                   2.03\n",
      "Topsoil_Soil_Organic_Carbon_Treatment_g_per_kg                                                 1.47\n",
      "Topsoil_carbon_stock_change_Mg_per_ha                                                           NaN\n",
      "N2O_flux_control                                                                                NaN\n",
      "N2O_flux_treatment                                                                              NaN\n",
      "CH4_flux_control_g_C_per_m2                                                                     NaN\n",
      "CH4_flux_treatment_g_C_per_m2                                                                   NaN\n",
      "CO2_flux_control                                                                                NaN\n",
      "CO2_flux_treatment                                                                              NaN\n",
      "NEE_flux_control_g_C_per_m2                                                                     NaN\n",
      "NEE_flux_treatment_g_C_per_m2                                                                   NaN\n",
      "CropYield_biomass_harvest_control                                                               NaN\n",
      "CropYield_biomass_treatment                                                                     NaN\n",
      "Name: 0, dtype: object\n",
      "\n"
     ]
    }
   ],
   "source": [
    "for i in range(3):\n",
    "    print(df.loc[0].T)\n",
    "    print()\n"
   ]
  },
  {
   "cell_type": "code",
   "execution_count": null,
   "metadata": {},
   "outputs": [],
   "source": []
  }
 ],
 "metadata": {
  "kernelspec": {
   "display_name": ".venv",
   "language": "python",
   "name": "python3"
  },
  "language_info": {
   "codemirror_mode": {
    "name": "ipython",
    "version": 3
   },
   "file_extension": ".py",
   "mimetype": "text/x-python",
   "name": "python",
   "nbconvert_exporter": "python",
   "pygments_lexer": "ipython3",
   "version": "3.12.6"
  }
 },
 "nbformat": 4,
 "nbformat_minor": 2
}
